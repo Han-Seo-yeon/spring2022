{
  "nbformat": 4,
  "nbformat_minor": 0,
  "metadata": {
    "colab": {
      "name": "Untitled7.ipynb",
      "provenance": [],
      "collapsed_sections": [],
      "authorship_tag": "ABX9TyMMJSuXFfSwqrDACtTpjxYv",
      "include_colab_link": true
    },
    "kernelspec": {
      "name": "python3",
      "display_name": "Python 3"
    },
    "language_info": {
      "name": "python"
    }
  },
  "cells": [
    {
      "cell_type": "markdown",
      "metadata": {
        "id": "view-in-github",
        "colab_type": "text"
      },
      "source": [
        "<a href=\"https://colab.research.google.com/github/Han-Seo-yeon/spring2022/blob/main/20220328.ipynb\" target=\"_parent\"><img src=\"https://colab.research.google.com/assets/colab-badge.svg\" alt=\"Open In Colab\"/></a>"
      ]
    },
    {
      "cell_type": "code",
      "execution_count": null,
      "metadata": {
        "id": "YvMy48G3aqhl"
      },
      "outputs": [],
      "source": [
        "!pip install gradio\n",
        "import gradio as gr\n",
        "import requests\n",
        "import pandas as pd"
      ]
    },
    {
      "cell_type": "code",
      "source": [
        "URL=('http://apis.data.go.kr/1741000/CalciumChlorideSupply2/'\n",
        "'getCalciumChlorideSupply1List?'\n",
        "'&type=json'\n",
        "'&pageNo=1'\n",
        "'&numOfRows=10'\n",
        "'ServiceKey=2HDPH1PDV%2B1taMEFLDAvcPWRd8cR%2BrFkijPo4lhPujTcDeONLAZhWqRcFjTiBrjw7FT5h0sVFc8VkjHFVsr1UQ%3D%3D')"
      ],
      "metadata": {
        "id": "uwjQvtuaauqA"
      },
      "execution_count": null,
      "outputs": []
    },
    {
      "cell_type": "code",
      "source": [
        "response=requests.get(URL)\n",
        "response"
      ],
      "metadata": {
        "colab": {
          "base_uri": "https://localhost:8080/"
        },
        "id": "YCJUEhI0awxd",
        "outputId": "b2ad1bea-0db4-4d90-8b24-41dcbba39670"
      },
      "execution_count": null,
      "outputs": [
        {
          "output_type": "execute_result",
          "data": {
            "text/plain": [
              "<Response [200]>"
            ]
          },
          "metadata": {},
          "execution_count": 6
        }
      ]
    },
    {
      "cell_type": "code",
      "source": [
        "r=response.json()\n",
        "r"
      ],
      "metadata": {
        "id": "fjBfvqsDax5p"
      },
      "execution_count": null,
      "outputs": []
    },
    {
      "cell_type": "code",
      "source": [
        "items=r['CalciumChlorideSupply'][1]['row']\n",
        "\n",
        "rep_org_nm = [item['rep_org_nm'] for item in items]\n",
        "fll_org_nm = [item['fll_org_nm'] for item in items]\n",
        "resrce_korean_nm = [item['resrce_korean_nm'] for item in items]\n",
        "hold_qy_subsum = [item['hold_qy_subsum'] for item in items]\n",
        "\n",
        "rep_org_nm = pd.Series(rep_org_nm)\n",
        "fll_org_nm = pd.Series(fll_org_nm)\n",
        "resrce_korean_nm = pd.Series(resrce_korean_nm)\n",
        "hold_qy_subsum = pd.Series(hold_qy_subsum)\n",
        "\n",
        "df = pd.DataFrame({'rep_org_nm': rep_org_nm, 'fll_org_nm': fll_org_nm, 'resrce_korean_nm': resrce_korean_nm, 'hold_qy_subsum': hold_qy_subsum})"
      ],
      "metadata": {
        "id": "KdXhl5aBazFP"
      },
      "execution_count": null,
      "outputs": []
    },
    {
      "cell_type": "code",
      "source": [
        "def test(rep_org_nm):\n",
        " URL=('http://apis.data.go.kr/1741000/CalciumChlorideSupply2/'\n",
        "'getCalciumChlorideSupply1List?'\n",
        "'&type=json'\n",
        "'&pageNo=1'\n",
        "'&numOfRows=10'\n",
        "'ServiceKey=2HDPH1PDV%2B1taMEFLDAvcPWRd8cR%2BrFkijPo4lhPujTcDeONLAZhWqRcFjTiBrjw7FT5h0sVFc8VkjHFVsr1UQ%3D%3D')\n",
        "\n",
        "response = requests.get(URL)\n",
        "r=response.json()\n",
        "\n",
        "items=r['CalciumChlorideSupply'][1]['row']\n",
        "\n",
        "rep_org_nm = [item['rep_org_nm'] for item in items]\n",
        "fll_org_nm = [item['fll_org_nm'] for item in items]\n",
        "resrce_korean_nm = [item['resrce_korean_nm'] for item in items]\n",
        "hold_qy_subsum = [item['hold_qy_subsum'] for item in items]\n",
        "\n",
        "rep_org_nm = pd.Series(rep_org_nm)\n",
        "fll_org_nm = pd.Series(fll_org_nm)\n",
        "resrce_korean_nm = pd.Series(resrce_korean_nm)\n",
        "hold_qy_subsum = pd.Series(hold_qy_subsum)\n",
        "\n",
        "df = pd.DataFrame({'rep_org_nm': rep_org_nm, 'fll_org_nm': fll_org_nm, 'resrce_korean_nm': resrce_korean_nm, 'hold_qy_subsum': hold_qy_subsum})"
      ],
      "metadata": {
        "id": "X9z_GXEefKL6"
      },
      "execution_count": null,
      "outputs": []
    },
    {
      "cell_type": "code",
      "source": [
        "iface = gr.Interface(test, gr.inputs.Dropdown(['서울', '부산', '대구', '인천', '광주', '대전', '울산', '경기', '강원', '충북', '충남', '전북', '전남', '경북', '경남', '제주', '세종']), outputs=['dataframe'])\n",
        "iface.launch(debug=True)"
      ],
      "metadata": {
        "colab": {
          "base_uri": "https://localhost:8080/",
          "height": 595
        },
        "id": "RJd-f4gIfStq",
        "outputId": "3a60ab2a-e807-42bd-8b11-6668bde53647"
      },
      "execution_count": null,
      "outputs": [
        {
          "metadata": {
            "tags": null
          },
          "name": "stdout",
          "output_type": "stream",
          "text": [
            "Colab notebook detected. This cell will run indefinitely so that you can see errors and logs. To turn off, set debug=False in launch().\n",
            "Running on public URL: https://16735.gradio.app\n",
            "\n",
            "This share link expires in 72 hours. For free permanent hosting, check out Spaces (https://huggingface.co/spaces)\n"
          ]
        },
        {
          "data": {
            "text/html": [
              "\n",
              "        <iframe\n",
              "            width=\"900\"\n",
              "            height=\"500\"\n",
              "            src=\"https://16735.gradio.app\"\n",
              "            frameborder=\"0\"\n",
              "            allowfullscreen\n",
              "        ></iframe>\n",
              "        "
            ],
            "text/plain": [
              "<IPython.lib.display.IFrame at 0x7f136fd4b590>"
            ]
          },
          "metadata": {},
          "output_type": "display_data"
        }
      ]
    }
  ]
}