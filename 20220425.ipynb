{
  "nbformat": 4,
  "nbformat_minor": 0,
  "metadata": {
    "colab": {
      "name": "Untitled10.ipynb",
      "provenance": [],
      "authorship_tag": "ABX9TyOUJGwsJO8DO0JH0KA6IQVy",
      "include_colab_link": true
    },
    "kernelspec": {
      "name": "python3",
      "display_name": "Python 3"
    },
    "language_info": {
      "name": "python"
    }
  },
  "cells": [
    {
      "cell_type": "markdown",
      "metadata": {
        "id": "view-in-github",
        "colab_type": "text"
      },
      "source": [
        "<a href=\"https://colab.research.google.com/github/Han-Seo-yeon/spring2022/blob/main/20220425.ipynb\" target=\"_parent\"><img src=\"https://colab.research.google.com/assets/colab-badge.svg\" alt=\"Open In Colab\"/></a>"
      ]
    },
    {
      "cell_type": "code",
      "execution_count": null,
      "metadata": {
        "id": "2JGZEBgzrpus"
      },
      "outputs": [],
      "source": [
        ""
      ]
    },
    {
      "cell_type": "markdown",
      "source": [
        "Signal\n",
        "**-auto correlation (자기상관)**\n",
        
        ": 시간적으로 상관 혹은 분산되는 정도의 척도\n",
        
        ": 신호의 spectorum이 가지는 time-variant 특성의 정보를 보여줌\n",
        
        ": pitch 음의 특성을 측정\n",
        "\n",
        
        "**-root mean square**\n",
        
        ": 지속적인 시그널의 출력이 가능한 평균 출력의 기준\n",
        
        ": 신호의 지속적 순시값을 제곱을 평균하여 제곱근으로 나타낸 값\n",
        
        ": 증폭 등의 강도를 측정\n"
      ],
      "metadata": {
        "id": "p51lIg4Xrq6N"
      }
    }
  ]
}
